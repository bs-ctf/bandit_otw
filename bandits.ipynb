{
 "nbformat": 4,
 "nbformat_minor": 2,
 "metadata": {
  "language_info": {
   "name": "python",
   "codemirror_mode": {
    "name": "ipython",
    "version": 3
   },
   "version": "3.6.9-final"
  },
  "orig_nbformat": 2,
  "file_extension": ".py",
  "mimetype": "text/x-python",
  "name": "python",
  "npconvert_exporter": "python",
  "pygments_lexer": "ipython3",
  "version": 3,
  "kernelspec": {
   "name": "python36964bit2c488aece8b54325bf9de11e77a9e3a5",
   "display_name": "Python 3.6.9 64-bit"
  }
 },
 "cells": [
  {
   "cell_type": "markdown",
   "metadata": {},
   "source": [
    "## Level 0\n",
    "\n",
    "The goal of this level is for you to log into the game using SSH. The host to which you need to connect is bandit.labs.overthewire.org, on port 2220. The username is bandit0 and the password is bandit0."
   ]
  },
  {
   "cell_type": "markdown",
   "metadata": {},
   "source": [
    "## Level 1\n",
    "\n",
    "The password for the next level is stored in a file called readme located in the home directory. Use this password to log into bandit1 using SSH. Whenever you find a password for a level, use SSH (on port 2220) to log into that level and continue the game.\n"
   ]
  },
  {
   "cell_type": "code",
   "execution_count": 10,
   "metadata": {},
   "outputs": [
    {
     "output_type": "stream",
     "name": "stdout",
     "text": "Linux bandit 4.18.12 x86_64 GNU/Linux\n               \n      ,----..            ,----,          .---. \n     /   /   \\         ,/   .`|         /. ./|\n    /   .     :      ,`   .'  :     .--'.  ' ;\n   .   /   ;.  \\   ;    ;     /    /__./ \\ : |\n  .   ;   /  ` ; .'___,/    ,' .--'.  '   \\' .\n  ;   |  ; \\ ; | |    :     | /___/ \\ |    ' ' \n  |   :  | ; | ' ;    |.';  ; ;   \\  \\;      : \n  .   |  ' ' ' : `----'  |  |  \\   ;  `      |\n  '   ;  \\; /  |     '   :  ;   .   \\    .\\  ; \n   \\   \\  ',  /      |   |  '    \\   \\   ' \\ |\n    ;   :    /       '   :  |     :   '  |--\"  \n     \\   \\ .'        ;   |.'       \\   \\ ;     \n  www. `---` ver     '---' he       '---\" ire.org     \n               \n              \nWelcome to OverTheWire!\n\nIf you find any problems, please report them to Steven or morla on\nirc.overthewire.org.\n\n--[ Playing the games ]--\n\n  This machine might hold several wargames. \n  If you are playing \"somegame\", then:\n\n    * USERNAMES are somegame0, somegame1, ...\n    * Most LEVELS are stored in /somegame/.\n    * PASSWORDS for each level are stored in /etc/somegame_pass/.\n\n  Write-access to homedirectories is disabled. It is advised to create a\n  working directory with a hard-to-guess name in /tmp/.  You can use the\n  command \"mktemp -d\" in order to generate a random and hard to guess\n  directory in /tmp/.  Read-access to both /tmp/ and /proc/ is disabled\n  so that users can not snoop on eachother. Files and directories with \n  easily guessable or short names will be periodically deleted!\n\t\n  Please play nice:\n      \n    * don't leave orphan processes running\n    * don't leave exploit-files laying around\n    * don't annoy other players\n    * don't post passwords or spoilers\n    * again, DONT POST SPOILERS! \n      This includes writeups of your solution on your blog or website!\n\n--[ Tips ]--\n\n  This machine has a 64bit processor and many security-features enabled\n  by default, although ASLR has been switched off.  The following\n  compiler flags might be interesting:\n\n    -m32                    compile for 32bit\n    -fno-stack-protector    disable ProPolice\n    -Wl,-z,norelro          disable relro \n\n  In addition, the execstack tool can be used to flag the stack as\n  executable on ELF binaries.\n\n  Finally, network-access is limited for most levels by a local\n  firewall.\n\n--[ Tools ]--\n\n For your convenience we have installed a few usefull tools which you can find\n in the following locations:\n\n    * pwndbg (https://github.com/pwndbg/pwndbg) in /usr/local/pwndbg/\n    * peda (https://github.com/longld/peda.git) in /usr/local/peda/\n    * gdbinit (https://github.com/gdbinit/Gdbinit) in /usr/local/gdbinit/\n    * pwntools (https://github.com/Gallopsled/pwntools)\n    * radare2 (http://www.radare.org/)\n    * checksec.sh (http://www.trapkit.de/tools/checksec.html) in /usr/local/bin/checksec.sh\n\n--[ More information ]--\n\n  For more information regarding individual wargames, visit\n  http://www.overthewire.org/wargames/\n\n  For support, questions or comments, contact us through IRC on\n  irc.overthewire.org #wargames.\n\n  Enjoy your stay!\n\n-----------The password is ---------------------\nboJ9jbbUNNfktd78OOpsqOltutMc3MY1\n-------------------------------------------------\nWarning: QT_DEVICE_PIXEL_RATIO is deprecated. Instead use:\n   QT_AUTO_SCREEN_SCALE_FACTOR to enable platform plugin controlled per-screen factors.\n   QT_SCREEN_SCALE_FACTORS to set per-screen factors.\n   QT_SCALE_FACTOR to set the application global scale factor.\n"
    }
   ],
   "source": [
    "%%bash\n",
    "\n",
    "ssh bandit0@bandit.labs.overthewire.org -q -p 2220\n",
    "echo \"-----------The password is ---------------------\"\n",
    "cat readme \n",
    "echo \"-------------------------------------------------\""
   ]
  },
  {
   "cell_type": "markdown",
   "metadata": {},
   "source": [
    "## Level 2\n",
    "\n",
    "The password for the next level is stored in a file called - located in the home directory"
   ]
  },
  {
   "cell_type": "code",
   "execution_count": 14,
   "metadata": {},
   "outputs": [
    {
     "output_type": "stream",
     "name": "stdout",
     "text": "Linux bandit 4.18.12 x86_64 GNU/Linux\n               \n      ,----..            ,----,          .---. \n     /   /   \\         ,/   .`|         /. ./|\n    /   .     :      ,`   .'  :     .--'.  ' ;\n   .   /   ;.  \\   ;    ;     /    /__./ \\ : |\n  .   ;   /  ` ; .'___,/    ,' .--'.  '   \\' .\n  ;   |  ; \\ ; | |    :     | /___/ \\ |    ' ' \n  |   :  | ; | ' ;    |.';  ; ;   \\  \\;      : \n  .   |  ' ' ' : `----'  |  |  \\   ;  `      |\n  '   ;  \\; /  |     '   :  ;   .   \\    .\\  ; \n   \\   \\  ',  /      |   |  '    \\   \\   ' \\ |\n    ;   :    /       '   :  |     :   '  |--\"  \n     \\   \\ .'        ;   |.'       \\   \\ ;     \n  www. `---` ver     '---' he       '---\" ire.org     \n               \n              \nWelcome to OverTheWire!\n\nIf you find any problems, please report them to Steven or morla on\nirc.overthewire.org.\n\n--[ Playing the games ]--\n\n  This machine might hold several wargames. \n  If you are playing \"somegame\", then:\n\n    * USERNAMES are somegame0, somegame1, ...\n    * Most LEVELS are stored in /somegame/.\n    * PASSWORDS for each level are stored in /etc/somegame_pass/.\n\n  Write-access to homedirectories is disabled. It is advised to create a\n  working directory with a hard-to-guess name in /tmp/.  You can use the\n  command \"mktemp -d\" in order to generate a random and hard to guess\n  directory in /tmp/.  Read-access to both /tmp/ and /proc/ is disabled\n  so that users can not snoop on eachother. Files and directories with \n  easily guessable or short names will be periodically deleted!\n\t\n  Please play nice:\n      \n    * don't leave orphan processes running\n    * don't leave exploit-files laying around\n    * don't annoy other players\n    * don't post passwords or spoilers\n    * again, DONT POST SPOILERS! \n      This includes writeups of your solution on your blog or website!\n\n--[ Tips ]--\n\n  This machine has a 64bit processor and many security-features enabled\n  by default, although ASLR has been switched off.  The following\n  compiler flags might be interesting:\n\n    -m32                    compile for 32bit\n    -fno-stack-protector    disable ProPolice\n    -Wl,-z,norelro          disable relro \n\n  In addition, the execstack tool can be used to flag the stack as\n  executable on ELF binaries.\n\n  Finally, network-access is limited for most levels by a local\n  firewall.\n\n--[ Tools ]--\n\n For your convenience we have installed a few usefull tools which you can find\n in the following locations:\n\n    * pwndbg (https://github.com/pwndbg/pwndbg) in /usr/local/pwndbg/\n    * peda (https://github.com/longld/peda.git) in /usr/local/peda/\n    * gdbinit (https://github.com/gdbinit/Gdbinit) in /usr/local/gdbinit/\n    * pwntools (https://github.com/Gallopsled/pwntools)\n    * radare2 (http://www.radare.org/)\n    * checksec.sh (http://www.trapkit.de/tools/checksec.html) in /usr/local/bin/checksec.sh\n\n--[ More information ]--\n\n  For more information regarding individual wargames, visit\n  http://www.overthewire.org/wargames/\n\n  For support, questions or comments, contact us through IRC on\n  irc.overthewire.org #wargames.\n\n  Enjoy your stay!\n\n-----------The password is ---------------------\nCV1DtqXWVFXTvM2F0k09SHz0YwRINYA9\n-------------------------------------------------\nWarning: QT_DEVICE_PIXEL_RATIO is deprecated. Instead use:\n   QT_AUTO_SCREEN_SCALE_FACTOR to enable platform plugin controlled per-screen factors.\n   QT_SCREEN_SCALE_FACTORS to set per-screen factors.\n   QT_SCALE_FACTOR to set the application global scale factor.\n"
    }
   ],
   "source": [
    "%%bash\n",
    "\n",
    "ssh bandit1@bandit.labs.overthewire.org -q -p 2220\n",
    "echo \"-----------The password is ---------------------\"\n",
    "cat \"./-\"\n",
    "echo \"-------------------------------------------------\""
   ]
  },
  {
   "cell_type": "markdown",
   "metadata": {},
   "source": [
    "## Level 3\n",
    "\n",
    "The password for the next level is stored in a file called spaces in this filename located in the home directory"
   ]
  },
  {
   "cell_type": "code",
   "execution_count": 16,
   "metadata": {},
   "outputs": [
    {
     "output_type": "stream",
     "name": "stdout",
     "text": "Linux bandit 4.18.12 x86_64 GNU/Linux\n               \n      ,----..            ,----,          .---. \n     /   /   \\         ,/   .`|         /. ./|\n    /   .     :      ,`   .'  :     .--'.  ' ;\n   .   /   ;.  \\   ;    ;     /    /__./ \\ : |\n  .   ;   /  ` ; .'___,/    ,' .--'.  '   \\' .\n  ;   |  ; \\ ; | |    :     | /___/ \\ |    ' ' \n  |   :  | ; | ' ;    |.';  ; ;   \\  \\;      : \n  .   |  ' ' ' : `----'  |  |  \\   ;  `      |\n  '   ;  \\; /  |     '   :  ;   .   \\    .\\  ; \n   \\   \\  ',  /      |   |  '    \\   \\   ' \\ |\n    ;   :    /       '   :  |     :   '  |--\"  \n     \\   \\ .'        ;   |.'       \\   \\ ;     \n  www. `---` ver     '---' he       '---\" ire.org     \n               \n              \nWelcome to OverTheWire!\n\nIf you find any problems, please report them to Steven or morla on\nirc.overthewire.org.\n\n--[ Playing the games ]--\n\n  This machine might hold several wargames. \n  If you are playing \"somegame\", then:\n\n    * USERNAMES are somegame0, somegame1, ...\n    * Most LEVELS are stored in /somegame/.\n    * PASSWORDS for each level are stored in /etc/somegame_pass/.\n\n  Write-access to homedirectories is disabled. It is advised to create a\n  working directory with a hard-to-guess name in /tmp/.  You can use the\n  command \"mktemp -d\" in order to generate a random and hard to guess\n  directory in /tmp/.  Read-access to both /tmp/ and /proc/ is disabled\n  so that users can not snoop on eachother. Files and directories with \n  easily guessable or short names will be periodically deleted!\n\t\n  Please play nice:\n      \n    * don't leave orphan processes running\n    * don't leave exploit-files laying around\n    * don't annoy other players\n    * don't post passwords or spoilers\n    * again, DONT POST SPOILERS! \n      This includes writeups of your solution on your blog or website!\n\n--[ Tips ]--\n\n  This machine has a 64bit processor and many security-features enabled\n  by default, although ASLR has been switched off.  The following\n  compiler flags might be interesting:\n\n    -m32                    compile for 32bit\n    -fno-stack-protector    disable ProPolice\n    -Wl,-z,norelro          disable relro \n\n  In addition, the execstack tool can be used to flag the stack as\n  executable on ELF binaries.\n\n  Finally, network-access is limited for most levels by a local\n  firewall.\n\n--[ Tools ]--\n\n For your convenience we have installed a few usefull tools which you can find\n in the following locations:\n\n    * pwndbg (https://github.com/pwndbg/pwndbg) in /usr/local/pwndbg/\n    * peda (https://github.com/longld/peda.git) in /usr/local/peda/\n    * gdbinit (https://github.com/gdbinit/Gdbinit) in /usr/local/gdbinit/\n    * pwntools (https://github.com/Gallopsled/pwntools)\n    * radare2 (http://www.radare.org/)\n    * checksec.sh (http://www.trapkit.de/tools/checksec.html) in /usr/local/bin/checksec.sh\n\n--[ More information ]--\n\n  For more information regarding individual wargames, visit\n  http://www.overthewire.org/wargames/\n\n  For support, questions or comments, contact us through IRC on\n  irc.overthewire.org #wargames.\n\n  Enjoy your stay!\n\n-----------The password is ---------------------\nUmHadQclWmgdLOKQ3YNgjWxGoRMb5luK\n-------------------------------------------------\nWarning: QT_DEVICE_PIXEL_RATIO is deprecated. Instead use:\n   QT_AUTO_SCREEN_SCALE_FACTOR to enable platform plugin controlled per-screen factors.\n   QT_SCREEN_SCALE_FACTORS to set per-screen factors.\n   QT_SCALE_FACTOR to set the application global scale factor.\n"
    }
   ],
   "source": [
    "%%bash\n",
    "\n",
    "ssh bandit2@bandit.labs.overthewire.org -q -p 2220\n",
    "echo \"-----------The password is ---------------------\"\n",
    "cat \"spaces in this filename\"\n",
    "echo \"-------------------------------------------------\""
   ]
  },
  {
   "cell_type": "markdown",
   "metadata": {},
   "source": [
    "## Level 4\n",
    "\n",
    "The password for the next level is stored in a hidden file in the inhere directory."
   ]
  },
  {
   "cell_type": "code",
   "execution_count": 17,
   "metadata": {},
   "outputs": [
    {
     "output_type": "stream",
     "name": "stdout",
     "text": "Linux bandit 4.18.12 x86_64 GNU/Linux\n               \n      ,----..            ,----,          .---. \n     /   /   \\         ,/   .`|         /. ./|\n    /   .     :      ,`   .'  :     .--'.  ' ;\n   .   /   ;.  \\   ;    ;     /    /__./ \\ : |\n  .   ;   /  ` ; .'___,/    ,' .--'.  '   \\' .\n  ;   |  ; \\ ; | |    :     | /___/ \\ |    ' ' \n  |   :  | ; | ' ;    |.';  ; ;   \\  \\;      : \n  .   |  ' ' ' : `----'  |  |  \\   ;  `      |\n  '   ;  \\; /  |     '   :  ;   .   \\    .\\  ; \n   \\   \\  ',  /      |   |  '    \\   \\   ' \\ |\n    ;   :    /       '   :  |     :   '  |--\"  \n     \\   \\ .'        ;   |.'       \\   \\ ;     \n  www. `---` ver     '---' he       '---\" ire.org     \n               \n              \nWelcome to OverTheWire!\n\nIf you find any problems, please report them to Steven or morla on\nirc.overthewire.org.\n\n--[ Playing the games ]--\n\n  This machine might hold several wargames. \n  If you are playing \"somegame\", then:\n\n    * USERNAMES are somegame0, somegame1, ...\n    * Most LEVELS are stored in /somegame/.\n    * PASSWORDS for each level are stored in /etc/somegame_pass/.\n\n  Write-access to homedirectories is disabled. It is advised to create a\n  working directory with a hard-to-guess name in /tmp/.  You can use the\n  command \"mktemp -d\" in order to generate a random and hard to guess\n  directory in /tmp/.  Read-access to both /tmp/ and /proc/ is disabled\n  so that users can not snoop on eachother. Files and directories with \n  easily guessable or short names will be periodically deleted!\n\t\n  Please play nice:\n      \n    * don't leave orphan processes running\n    * don't leave exploit-files laying around\n    * don't annoy other players\n    * don't post passwords or spoilers\n    * again, DONT POST SPOILERS! \n      This includes writeups of your solution on your blog or website!\n\n--[ Tips ]--\n\n  This machine has a 64bit processor and many security-features enabled\n  by default, although ASLR has been switched off.  The following\n  compiler flags might be interesting:\n\n    -m32                    compile for 32bit\n    -fno-stack-protector    disable ProPolice\n    -Wl,-z,norelro          disable relro \n\n  In addition, the execstack tool can be used to flag the stack as\n  executable on ELF binaries.\n\n  Finally, network-access is limited for most levels by a local\n  firewall.\n\n--[ Tools ]--\n\n For your convenience we have installed a few usefull tools which you can find\n in the following locations:\n\n    * pwndbg (https://github.com/pwndbg/pwndbg) in /usr/local/pwndbg/\n    * peda (https://github.com/longld/peda.git) in /usr/local/peda/\n    * gdbinit (https://github.com/gdbinit/Gdbinit) in /usr/local/gdbinit/\n    * pwntools (https://github.com/Gallopsled/pwntools)\n    * radare2 (http://www.radare.org/)\n    * checksec.sh (http://www.trapkit.de/tools/checksec.html) in /usr/local/bin/checksec.sh\n\n--[ More information ]--\n\n  For more information regarding individual wargames, visit\n  http://www.overthewire.org/wargames/\n\n  For support, questions or comments, contact us through IRC on\n  irc.overthewire.org #wargames.\n\n  Enjoy your stay!\n\n-----------The password is ---------------------\npIwrPrtPN36QITSp3EQaw936yaFoFgAB\n-------------------------------------------------\nWarning: QT_DEVICE_PIXEL_RATIO is deprecated. Instead use:\n   QT_AUTO_SCREEN_SCALE_FACTOR to enable platform plugin controlled per-screen factors.\n   QT_SCREEN_SCALE_FACTORS to set per-screen factors.\n   QT_SCALE_FACTOR to set the application global scale factor.\n"
    }
   ],
   "source": [
    "%%bash\n",
    "\n",
    "ssh bandit3@bandit.labs.overthewire.org -q -p 2220\n",
    "echo \"-----------The password is ---------------------\"\n",
    "cat inhere/.hidden\n",
    "echo \"-------------------------------------------------\""
   ]
  },
  {
   "cell_type": "markdown",
   "metadata": {},
   "source": [
    "## Level 5\n",
    "\n",
    "\n",
    "The password for the next level is stored in the only human-readable file in the inhere directory."
   ]
  },
  {
   "cell_type": "code",
   "execution_count": 24,
   "metadata": {},
   "outputs": [
    {
     "output_type": "stream",
     "name": "stdout",
     "text": "Linux bandit 4.18.12 x86_64 GNU/Linux\n               \n      ,----..            ,----,          .---. \n     /   /   \\         ,/   .`|         /. ./|\n    /   .     :      ,`   .'  :     .--'.  ' ;\n   .   /   ;.  \\   ;    ;     /    /__./ \\ : |\n  .   ;   /  ` ; .'___,/    ,' .--'.  '   \\' .\n  ;   |  ; \\ ; | |    :     | /___/ \\ |    ' ' \n  |   :  | ; | ' ;    |.';  ; ;   \\  \\;      : \n  .   |  ' ' ' : `----'  |  |  \\   ;  `      |\n  '   ;  \\; /  |     '   :  ;   .   \\    .\\  ; \n   \\   \\  ',  /      |   |  '    \\   \\   ' \\ |\n    ;   :    /       '   :  |     :   '  |--\"  \n     \\   \\ .'        ;   |.'       \\   \\ ;     \n  www. `---` ver     '---' he       '---\" ire.org     \n               \n              \nWelcome to OverTheWire!\n\nIf you find any problems, please report them to Steven or morla on\nirc.overthewire.org.\n\n--[ Playing the games ]--\n\n  This machine might hold several wargames. \n  If you are playing \"somegame\", then:\n\n    * USERNAMES are somegame0, somegame1, ...\n    * Most LEVELS are stored in /somegame/.\n    * PASSWORDS for each level are stored in /etc/somegame_pass/.\n\n  Write-access to homedirectories is disabled. It is advised to create a\n  working directory with a hard-to-guess name in /tmp/.  You can use the\n  command \"mktemp -d\" in order to generate a random and hard to guess\n  directory in /tmp/.  Read-access to both /tmp/ and /proc/ is disabled\n  so that users can not snoop on eachother. Files and directories with \n  easily guessable or short names will be periodically deleted!\n\t\n  Please play nice:\n      \n    * don't leave orphan processes running\n    * don't leave exploit-files laying around\n    * don't annoy other players\n    * don't post passwords or spoilers\n    * again, DONT POST SPOILERS! \n      This includes writeups of your solution on your blog or website!\n\n--[ Tips ]--\n\n  This machine has a 64bit processor and many security-features enabled\n  by default, although ASLR has been switched off.  The following\n  compiler flags might be interesting:\n\n    -m32                    compile for 32bit\n    -fno-stack-protector    disable ProPolice\n    -Wl,-z,norelro          disable relro \n\n  In addition, the execstack tool can be used to flag the stack as\n  executable on ELF binaries.\n\n  Finally, network-access is limited for most levels by a local\n  firewall.\n\n--[ Tools ]--\n\n For your convenience we have installed a few usefull tools which you can find\n in the following locations:\n\n    * pwndbg (https://github.com/pwndbg/pwndbg) in /usr/local/pwndbg/\n    * peda (https://github.com/longld/peda.git) in /usr/local/peda/\n    * gdbinit (https://github.com/gdbinit/Gdbinit) in /usr/local/gdbinit/\n    * pwntools (https://github.com/Gallopsled/pwntools)\n    * radare2 (http://www.radare.org/)\n    * checksec.sh (http://www.trapkit.de/tools/checksec.html) in /usr/local/bin/checksec.sh\n\n--[ More information ]--\n\n  For more information regarding individual wargames, visit\n  http://www.overthewire.org/wargames/\n\n  For support, questions or comments, contact us through IRC on\n  irc.overthewire.org #wargames.\n\n  Enjoy your stay!\n\n-------------------------------------------------\n./inhere/-file00: data\n./inhere/-file01: data\n./inhere/-file02: data\n./inhere/-file03: data\n./inhere/-file04: data\n./inhere/-file05: data\n./inhere/-file06: data\n./inhere/-file07: ASCII text\n./inhere/-file08: data\n./inhere/-file09: data\n-----------The password is ---------------------\nkoReBOKuIDDepwhWk7jZC0RTdopnAYKh\n-------------------------------------------------\nWarning: QT_DEVICE_PIXEL_RATIO is deprecated. Instead use:\n   QT_AUTO_SCREEN_SCALE_FACTOR to enable platform plugin controlled per-screen factors.\n   QT_SCREEN_SCALE_FACTORS to set per-screen factors.\n   QT_SCALE_FACTOR to set the application global scale factor.\n"
    }
   ],
   "source": [
    "%%bash\n",
    "\n",
    "ssh bandit4@bandit.labs.overthewire.org -q -p 2220\n",
    "echo \"-------------------------------------------------\"\n",
    "file ./inhere/*\n",
    "echo \"-----------The password is ---------------------\"\n",
    "cat ./inhere/-file07\n",
    "echo \"-------------------------------------------------\""
   ]
  },
  {
   "cell_type": "markdown",
   "metadata": {},
   "source": [
    "## Level 6\n",
    "\n",
    "The password for the next level is stored in a file somewhere under the inhere directory and has all of the following properties:\n",
    "\n",
    "- human-readable\n",
    "- 1033 bytes in size\n",
    "- not executable"
   ]
  },
  {
   "cell_type": "code",
   "execution_count": 25,
   "metadata": {},
   "outputs": [
    {
     "output_type": "stream",
     "name": "stdout",
     "text": "Linux bandit 4.18.12 x86_64 GNU/Linux\n               \n      ,----..            ,----,          .---. \n     /   /   \\         ,/   .`|         /. ./|\n    /   .     :      ,`   .'  :     .--'.  ' ;\n   .   /   ;.  \\   ;    ;     /    /__./ \\ : |\n  .   ;   /  ` ; .'___,/    ,' .--'.  '   \\' .\n  ;   |  ; \\ ; | |    :     | /___/ \\ |    ' ' \n  |   :  | ; | ' ;    |.';  ; ;   \\  \\;      : \n  .   |  ' ' ' : `----'  |  |  \\   ;  `      |\n  '   ;  \\; /  |     '   :  ;   .   \\    .\\  ; \n   \\   \\  ',  /      |   |  '    \\   \\   ' \\ |\n    ;   :    /       '   :  |     :   '  |--\"  \n     \\   \\ .'        ;   |.'       \\   \\ ;     \n  www. `---` ver     '---' he       '---\" ire.org     \n               \n              \nWelcome to OverTheWire!\n\nIf you find any problems, please report them to Steven or morla on\nirc.overthewire.org.\n\n--[ Playing the games ]--\n\n  This machine might hold several wargames. \n  If you are playing \"somegame\", then:\n\n    * USERNAMES are somegame0, somegame1, ...\n    * Most LEVELS are stored in /somegame/.\n    * PASSWORDS for each level are stored in /etc/somegame_pass/.\n\n  Write-access to homedirectories is disabled. It is advised to create a\n  working directory with a hard-to-guess name in /tmp/.  You can use the\n  command \"mktemp -d\" in order to generate a random and hard to guess\n  directory in /tmp/.  Read-access to both /tmp/ and /proc/ is disabled\n  so that users can not snoop on eachother. Files and directories with \n  easily guessable or short names will be periodically deleted!\n\t\n  Please play nice:\n      \n    * don't leave orphan processes running\n    * don't leave exploit-files laying around\n    * don't annoy other players\n    * don't post passwords or spoilers\n    * again, DONT POST SPOILERS! \n      This includes writeups of your solution on your blog or website!\n\n--[ Tips ]--\n\n  This machine has a 64bit processor and many security-features enabled\n  by default, although ASLR has been switched off.  The following\n  compiler flags might be interesting:\n\n    -m32                    compile for 32bit\n    -fno-stack-protector    disable ProPolice\n    -Wl,-z,norelro          disable relro \n\n  In addition, the execstack tool can be used to flag the stack as\n  executable on ELF binaries.\n\n  Finally, network-access is limited for most levels by a local\n  firewall.\n\n--[ Tools ]--\n\n For your convenience we have installed a few usefull tools which you can find\n in the following locations:\n\n    * pwndbg (https://github.com/pwndbg/pwndbg) in /usr/local/pwndbg/\n    * peda (https://github.com/longld/peda.git) in /usr/local/peda/\n    * gdbinit (https://github.com/gdbinit/Gdbinit) in /usr/local/gdbinit/\n    * pwntools (https://github.com/Gallopsled/pwntools)\n    * radare2 (http://www.radare.org/)\n    * checksec.sh (http://www.trapkit.de/tools/checksec.html) in /usr/local/bin/checksec.sh\n\n--[ More information ]--\n\n  For more information regarding individual wargames, visit\n  http://www.overthewire.org/wargames/\n\n  For support, questions or comments, contact us through IRC on\n  irc.overthewire.org #wargames.\n\n  Enjoy your stay!\n\n-----------The password is ---------------------\nDXjZPULLxYr17uwoI01bNLQbtFemEgo7\n                                                                                                                                                                                                                                                                                                                                                                                                                                                                                                                                                                                                                                                                                                                                                                                                                                                                                                                                                                                                                                        -------------------------------------------------\nWarning: QT_DEVICE_PIXEL_RATIO is deprecated. Instead use:\n   QT_AUTO_SCREEN_SCALE_FACTOR to enable platform plugin controlled per-screen factors.\n   QT_SCREEN_SCALE_FACTORS to set per-screen factors.\n   QT_SCALE_FACTOR to set the application global scale factor.\n"
    }
   ],
   "source": [
    "%%bash\n",
    "\n",
    "ssh bandit5@bandit.labs.overthewire.org -q -p 2220\n",
    "echo \"-----------The password is ---------------------\"\n",
    "cat `find inhere/ -size 1033c`\n",
    "qecho \"-------------------------------------------------\""
   ]
  },
  {
   "cell_type": "markdown",
   "metadata": {},
   "source": [
    "## Level 7\n",
    "\n",
    "The password for the next level is stored somewhere on the server and has all of the following properties:\n",
    "\n",
    "-owned by user bandit7\n",
    "-owned by group bandit6\n",
    "-33 bytes in size"
   ]
  },
  {
   "cell_type": "code",
   "execution_count": 28,
   "metadata": {},
   "outputs": [
    {
     "output_type": "stream",
     "name": "stdout",
     "text": "Linux bandit 4.18.12 x86_64 GNU/Linux\n               \n      ,----..            ,----,          .---. \n     /   /   \\         ,/   .`|         /. ./|\n    /   .     :      ,`   .'  :     .--'.  ' ;\n   .   /   ;.  \\   ;    ;     /    /__./ \\ : |\n  .   ;   /  ` ; .'___,/    ,' .--'.  '   \\' .\n  ;   |  ; \\ ; | |    :     | /___/ \\ |    ' ' \n  |   :  | ; | ' ;    |.';  ; ;   \\  \\;      : \n  .   |  ' ' ' : `----'  |  |  \\   ;  `      |\n  '   ;  \\; /  |     '   :  ;   .   \\    .\\  ; \n   \\   \\  ',  /      |   |  '    \\   \\   ' \\ |\n    ;   :    /       '   :  |     :   '  |--\"  \n     \\   \\ .'        ;   |.'       \\   \\ ;     \n  www. `---` ver     '---' he       '---\" ire.org     \n               \n              \nWelcome to OverTheWire!\n\nIf you find any problems, please report them to Steven or morla on\nirc.overthewire.org.\n\n--[ Playing the games ]--\n\n  This machine might hold several wargames. \n  If you are playing \"somegame\", then:\n\n    * USERNAMES are somegame0, somegame1, ...\n    * Most LEVELS are stored in /somegame/.\n    * PASSWORDS for each level are stored in /etc/somegame_pass/.\n\n  Write-access to homedirectories is disabled. It is advised to create a\n  working directory with a hard-to-guess name in /tmp/.  You can use the\n  command \"mktemp -d\" in order to generate a random and hard to guess\n  directory in /tmp/.  Read-access to both /tmp/ and /proc/ is disabled\n  so that users can not snoop on eachother. Files and directories with \n  easily guessable or short names will be periodically deleted!\n\t\n  Please play nice:\n      \n    * don't leave orphan processes running\n    * don't leave exploit-files laying around\n    * don't annoy other players\n    * don't post passwords or spoilers\n    * again, DONT POST SPOILERS! \n      This includes writeups of your solution on your blog or website!\n\n--[ Tips ]--\n\n  This machine has a 64bit processor and many security-features enabled\n  by default, although ASLR has been switched off.  The following\n  compiler flags might be interesting:\n\n    -m32                    compile for 32bit\n    -fno-stack-protector    disable ProPolice\n    -Wl,-z,norelro          disable relro \n\n  In addition, the execstack tool can be used to flag the stack as\n  executable on ELF binaries.\n\n  Finally, network-access is limited for most levels by a local\n  firewall.\n\n--[ Tools ]--\n\n For your convenience we have installed a few usefull tools which you can find\n in the following locations:\n\n    * pwndbg (https://github.com/pwndbg/pwndbg) in /usr/local/pwndbg/\n    * peda (https://github.com/longld/peda.git) in /usr/local/peda/\n    * gdbinit (https://github.com/gdbinit/Gdbinit) in /usr/local/gdbinit/\n    * pwntools (https://github.com/Gallopsled/pwntools)\n    * radare2 (http://www.radare.org/)\n    * checksec.sh (http://www.trapkit.de/tools/checksec.html) in /usr/local/bin/checksec.sh\n\n--[ More information ]--\n\n  For more information regarding individual wargames, visit\n  http://www.overthewire.org/wargames/\n\n  For support, questions or comments, contact us through IRC on\n  irc.overthewire.org #wargames.\n\n  Enjoy your stay!\n\n-----------The password is ---------------------\nHKBPTKQnIay4Fw76bEy8PVxKEDQRKTzs\n-------------------------------------------------\nWarning: QT_DEVICE_PIXEL_RATIO is deprecated. Instead use:\n   QT_AUTO_SCREEN_SCALE_FACTOR to enable platform plugin controlled per-screen factors.\n   QT_SCREEN_SCALE_FACTORS to set per-screen factors.\n   QT_SCALE_FACTOR to set the application global scale factor.\n"
    }
   ],
   "source": [
    "%%bash\n",
    "\n",
    "ssh bandit6@bandit.labs.overthewire.org -q -p 2220\n",
    "echo \"-----------The password is ---------------------\"\n",
    "cat `find / -size 33c -group bandit6 -user bandit7 2>&1 | grep -v -E \"Permission denied|No such file or directory\"`\n",
    "echo \"-------------------------------------------------\""
   ]
  },
  {
   "cell_type": "markdown",
   "metadata": {},
   "source": [
    "## Level 8\n",
    "\n",
    "The password for the next level is stored in the file data.txt next to the word millionth"
   ]
  },
  {
   "cell_type": "code",
   "execution_count": 29,
   "metadata": {},
   "outputs": [
    {
     "output_type": "stream",
     "name": "stdout",
     "text": "Linux bandit 4.18.12 x86_64 GNU/Linux\n               \n      ,----..            ,----,          .---. \n     /   /   \\         ,/   .`|         /. ./|\n    /   .     :      ,`   .'  :     .--'.  ' ;\n   .   /   ;.  \\   ;    ;     /    /__./ \\ : |\n  .   ;   /  ` ; .'___,/    ,' .--'.  '   \\' .\n  ;   |  ; \\ ; | |    :     | /___/ \\ |    ' ' \n  |   :  | ; | ' ;    |.';  ; ;   \\  \\;      : \n  .   |  ' ' ' : `----'  |  |  \\   ;  `      |\n  '   ;  \\; /  |     '   :  ;   .   \\    .\\  ; \n   \\   \\  ',  /      |   |  '    \\   \\   ' \\ |\n    ;   :    /       '   :  |     :   '  |--\"  \n     \\   \\ .'        ;   |.'       \\   \\ ;     \n  www. `---` ver     '---' he       '---\" ire.org     \n               \n              \nWelcome to OverTheWire!\n\nIf you find any problems, please report them to Steven or morla on\nirc.overthewire.org.\n\n--[ Playing the games ]--\n\n  This machine might hold several wargames. \n  If you are playing \"somegame\", then:\n\n    * USERNAMES are somegame0, somegame1, ...\n    * Most LEVELS are stored in /somegame/.\n    * PASSWORDS for each level are stored in /etc/somegame_pass/.\n\n  Write-access to homedirectories is disabled. It is advised to create a\n  working directory with a hard-to-guess name in /tmp/.  You can use the\n  command \"mktemp -d\" in order to generate a random and hard to guess\n  directory in /tmp/.  Read-access to both /tmp/ and /proc/ is disabled\n  so that users can not snoop on eachother. Files and directories with \n  easily guessable or short names will be periodically deleted!\n\t\n  Please play nice:\n      \n    * don't leave orphan processes running\n    * don't leave exploit-files laying around\n    * don't annoy other players\n    * don't post passwords or spoilers\n    * again, DONT POST SPOILERS! \n      This includes writeups of your solution on your blog or website!\n\n--[ Tips ]--\n\n  This machine has a 64bit processor and many security-features enabled\n  by default, although ASLR has been switched off.  The following\n  compiler flags might be interesting:\n\n    -m32                    compile for 32bit\n    -fno-stack-protector    disable ProPolice\n    -Wl,-z,norelro          disable relro \n\n  In addition, the execstack tool can be used to flag the stack as\n  executable on ELF binaries.\n\n  Finally, network-access is limited for most levels by a local\n  firewall.\n\n--[ Tools ]--\n\n For your convenience we have installed a few usefull tools which you can find\n in the following locations:\n\n    * pwndbg (https://github.com/pwndbg/pwndbg) in /usr/local/pwndbg/\n    * peda (https://github.com/longld/peda.git) in /usr/local/peda/\n    * gdbinit (https://github.com/gdbinit/Gdbinit) in /usr/local/gdbinit/\n    * pwntools (https://github.com/Gallopsled/pwntools)\n    * radare2 (http://www.radare.org/)\n    * checksec.sh (http://www.trapkit.de/tools/checksec.html) in /usr/local/bin/checksec.sh\n\n--[ More information ]--\n\n  For more information regarding individual wargames, visit\n  http://www.overthewire.org/wargames/\n\n  For support, questions or comments, contact us through IRC on\n  irc.overthewire.org #wargames.\n\n  Enjoy your stay!\n\n-----------The password is ---------------------\ncvX2JJa4CFALtqS87jk27qwqGhBM9plV\n-------------------------------------------------\nWarning: QT_DEVICE_PIXEL_RATIO is deprecated. Instead use:\n   QT_AUTO_SCREEN_SCALE_FACTOR to enable platform plugin controlled per-screen factors.\n   QT_SCREEN_SCALE_FACTORS to set per-screen factors.\n   QT_SCALE_FACTOR to set the application global scale factor.\n"
    }
   ],
   "source": [
    "%%bash\n",
    "\n",
    "ssh bandit7@bandit.labs.overthewire.org -q -p 2220\n",
    "echo \"-----------The password is ---------------------\"\n",
    "grep millionth data.txt | cut -f2\n",
    "echo \"-------------------------------------------------\""
   ]
  },
  {
   "cell_type": "markdown",
   "metadata": {},
   "source": [
    "## Level 9\n",
    "\n",
    "The password for the next level is stored in the file data.txt and is the only line of text that occurs only once"
   ]
  },
  {
   "cell_type": "code",
   "execution_count": 32,
   "metadata": {},
   "outputs": [
    {
     "output_type": "stream",
     "name": "stdout",
     "text": "Linux bandit 4.18.12 x86_64 GNU/Linux\n               \n      ,----..            ,----,          .---. \n     /   /   \\         ,/   .`|         /. ./|\n    /   .     :      ,`   .'  :     .--'.  ' ;\n   .   /   ;.  \\   ;    ;     /    /__./ \\ : |\n  .   ;   /  ` ; .'___,/    ,' .--'.  '   \\' .\n  ;   |  ; \\ ; | |    :     | /___/ \\ |    ' ' \n  |   :  | ; | ' ;    |.';  ; ;   \\  \\;      : \n  .   |  ' ' ' : `----'  |  |  \\   ;  `      |\n  '   ;  \\; /  |     '   :  ;   .   \\    .\\  ; \n   \\   \\  ',  /      |   |  '    \\   \\   ' \\ |\n    ;   :    /       '   :  |     :   '  |--\"  \n     \\   \\ .'        ;   |.'       \\   \\ ;     \n  www. `---` ver     '---' he       '---\" ire.org     \n               \n              \nWelcome to OverTheWire!\n\nIf you find any problems, please report them to Steven or morla on\nirc.overthewire.org.\n\n--[ Playing the games ]--\n\n  This machine might hold several wargames. \n  If you are playing \"somegame\", then:\n\n    * USERNAMES are somegame0, somegame1, ...\n    * Most LEVELS are stored in /somegame/.\n    * PASSWORDS for each level are stored in /etc/somegame_pass/.\n\n  Write-access to homedirectories is disabled. It is advised to create a\n  working directory with a hard-to-guess name in /tmp/.  You can use the\n  command \"mktemp -d\" in order to generate a random and hard to guess\n  directory in /tmp/.  Read-access to both /tmp/ and /proc/ is disabled\n  so that users can not snoop on eachother. Files and directories with \n  easily guessable or short names will be periodically deleted!\n\t\n  Please play nice:\n      \n    * don't leave orphan processes running\n    * don't leave exploit-files laying around\n    * don't annoy other players\n    * don't post passwords or spoilers\n    * again, DONT POST SPOILERS! \n      This includes writeups of your solution on your blog or website!\n\n--[ Tips ]--\n\n  This machine has a 64bit processor and many security-features enabled\n  by default, although ASLR has been switched off.  The following\n  compiler flags might be interesting:\n\n    -m32                    compile for 32bit\n    -fno-stack-protector    disable ProPolice\n    -Wl,-z,norelro          disable relro \n\n  In addition, the execstack tool can be used to flag the stack as\n  executable on ELF binaries.\n\n  Finally, network-access is limited for most levels by a local\n  firewall.\n\n--[ Tools ]--\n\n For your convenience we have installed a few usefull tools which you can find\n in the following locations:\n\n    * pwndbg (https://github.com/pwndbg/pwndbg) in /usr/local/pwndbg/\n    * peda (https://github.com/longld/peda.git) in /usr/local/peda/\n    * gdbinit (https://github.com/gdbinit/Gdbinit) in /usr/local/gdbinit/\n    * pwntools (https://github.com/Gallopsled/pwntools)\n    * radare2 (http://www.radare.org/)\n    * checksec.sh (http://www.trapkit.de/tools/checksec.html) in /usr/local/bin/checksec.sh\n\n--[ More information ]--\n\n  For more information regarding individual wargames, visit\n  http://www.overthewire.org/wargames/\n\n  For support, questions or comments, contact us through IRC on\n  irc.overthewire.org #wargames.\n\n  Enjoy your stay!\n\n-----------The password is ---------------------\nUsvVyFSfZZWbi6wgC7dAFyFuR6jQQUhR\n-------------------------------------------------\nWarning: QT_DEVICE_PIXEL_RATIO is deprecated. Instead use:\n   QT_AUTO_SCREEN_SCALE_FACTOR to enable platform plugin controlled per-screen factors.\n   QT_SCREEN_SCALE_FACTORS to set per-screen factors.\n   QT_SCALE_FACTOR to set the application global scale factor.\n"
    }
   ],
   "source": [
    "%%bash\n",
    "\n",
    "ssh bandit8@bandit.labs.overthewire.org -q -p 2220\n",
    "echo \"-----------The password is ---------------------\"\n",
    "sort data.txt | uniq -u\n",
    "echo \"-------------------------------------------------\""
   ]
  },
  {
   "cell_type": "markdown",
   "metadata": {},
   "source": [
    "## Level 10\n",
    "\n",
    "The password for the next level is stored in the file data.txt in one of the few human-readable strings, beginning with several ‘=’ characters."
   ]
  },
  {
   "cell_type": "code",
   "execution_count": 33,
   "metadata": {},
   "outputs": [
    {
     "output_type": "stream",
     "name": "stdout",
     "text": "Linux bandit 4.18.12 x86_64 GNU/Linux\n               \n      ,----..            ,----,          .---. \n     /   /   \\         ,/   .`|         /. ./|\n    /   .     :      ,`   .'  :     .--'.  ' ;\n   .   /   ;.  \\   ;    ;     /    /__./ \\ : |\n  .   ;   /  ` ; .'___,/    ,' .--'.  '   \\' .\n  ;   |  ; \\ ; | |    :     | /___/ \\ |    ' ' \n  |   :  | ; | ' ;    |.';  ; ;   \\  \\;      : \n  .   |  ' ' ' : `----'  |  |  \\   ;  `      |\n  '   ;  \\; /  |     '   :  ;   .   \\    .\\  ; \n   \\   \\  ',  /      |   |  '    \\   \\   ' \\ |\n    ;   :    /       '   :  |     :   '  |--\"  \n     \\   \\ .'        ;   |.'       \\   \\ ;     \n  www. `---` ver     '---' he       '---\" ire.org     \n               \n              \nWelcome to OverTheWire!\n\nIf you find any problems, please report them to Steven or morla on\nirc.overthewire.org.\n\n--[ Playing the games ]--\n\n  This machine might hold several wargames. \n  If you are playing \"somegame\", then:\n\n    * USERNAMES are somegame0, somegame1, ...\n    * Most LEVELS are stored in /somegame/.\n    * PASSWORDS for each level are stored in /etc/somegame_pass/.\n\n  Write-access to homedirectories is disabled. It is advised to create a\n  working directory with a hard-to-guess name in /tmp/.  You can use the\n  command \"mktemp -d\" in order to generate a random and hard to guess\n  directory in /tmp/.  Read-access to both /tmp/ and /proc/ is disabled\n  so that users can not snoop on eachother. Files and directories with \n  easily guessable or short names will be periodically deleted!\n\t\n  Please play nice:\n      \n    * don't leave orphan processes running\n    * don't leave exploit-files laying around\n    * don't annoy other players\n    * don't post passwords or spoilers\n    * again, DONT POST SPOILERS! \n      This includes writeups of your solution on your blog or website!\n\n--[ Tips ]--\n\n  This machine has a 64bit processor and many security-features enabled\n  by default, although ASLR has been switched off.  The following\n  compiler flags might be interesting:\n\n    -m32                    compile for 32bit\n    -fno-stack-protector    disable ProPolice\n    -Wl,-z,norelro          disable relro \n\n  In addition, the execstack tool can be used to flag the stack as\n  executable on ELF binaries.\n\n  Finally, network-access is limited for most levels by a local\n  firewall.\n\n--[ Tools ]--\n\n For your convenience we have installed a few usefull tools which you can find\n in the following locations:\n\n    * pwndbg (https://github.com/pwndbg/pwndbg) in /usr/local/pwndbg/\n    * peda (https://github.com/longld/peda.git) in /usr/local/peda/\n    * gdbinit (https://github.com/gdbinit/Gdbinit) in /usr/local/gdbinit/\n    * pwntools (https://github.com/Gallopsled/pwntools)\n    * radare2 (http://www.radare.org/)\n    * checksec.sh (http://www.trapkit.de/tools/checksec.html) in /usr/local/bin/checksec.sh\n\n--[ More information ]--\n\n  For more information regarding individual wargames, visit\n  http://www.overthewire.org/wargames/\n\n  For support, questions or comments, contact us through IRC on\n  irc.overthewire.org #wargames.\n\n  Enjoy your stay!\n\n-----------The password is ---------------------\ntruKLdjsbJ5g7yyJ2X2R0o3a5HQJFuLk\n-------------------------------------------------\nWarning: QT_DEVICE_PIXEL_RATIO is deprecated. Instead use:\n   QT_AUTO_SCREEN_SCALE_FACTOR to enable platform plugin controlled per-screen factors.\n   QT_SCREEN_SCALE_FACTORS to set per-screen factors.\n   QT_SCALE_FACTOR to set the application global scale factor.\n"
    }
   ],
   "source": [
    "%%bash\n",
    "\n",
    "ssh bandit9@bandit.labs.overthewire.org -q -p 2220\n",
    "echo \"-----------The password is ---------------------\"\n",
    "strings data.txt | grep \"^==\" | awk 'NR == 3 {print $2}'\n",
    "echo \"-------------------------------------------------\""
   ]
  },
  {
   "cell_type": "markdown",
   "metadata": {},
   "source": [
    "## Level 11\n",
    "\n",
    "The password for the next level is stored in the file data.txt, which contains base64 encoded data"
   ]
  },
  {
   "cell_type": "code",
   "execution_count": 35,
   "metadata": {},
   "outputs": [
    {
     "output_type": "stream",
     "name": "stdout",
     "text": "Linux bandit 4.18.12 x86_64 GNU/Linux\n               \n      ,----..            ,----,          .---. \n     /   /   \\         ,/   .`|         /. ./|\n    /   .     :      ,`   .'  :     .--'.  ' ;\n   .   /   ;.  \\   ;    ;     /    /__./ \\ : |\n  .   ;   /  ` ; .'___,/    ,' .--'.  '   \\' .\n  ;   |  ; \\ ; | |    :     | /___/ \\ |    ' ' \n  |   :  | ; | ' ;    |.';  ; ;   \\  \\;      : \n  .   |  ' ' ' : `----'  |  |  \\   ;  `      |\n  '   ;  \\; /  |     '   :  ;   .   \\    .\\  ; \n   \\   \\  ',  /      |   |  '    \\   \\   ' \\ |\n    ;   :    /       '   :  |     :   '  |--\"  \n     \\   \\ .'        ;   |.'       \\   \\ ;     \n  www. `---` ver     '---' he       '---\" ire.org     \n               \n              \nWelcome to OverTheWire!\n\nIf you find any problems, please report them to Steven or morla on\nirc.overthewire.org.\n\n--[ Playing the games ]--\n\n  This machine might hold several wargames. \n  If you are playing \"somegame\", then:\n\n    * USERNAMES are somegame0, somegame1, ...\n    * Most LEVELS are stored in /somegame/.\n    * PASSWORDS for each level are stored in /etc/somegame_pass/.\n\n  Write-access to homedirectories is disabled. It is advised to create a\n  working directory with a hard-to-guess name in /tmp/.  You can use the\n  command \"mktemp -d\" in order to generate a random and hard to guess\n  directory in /tmp/.  Read-access to both /tmp/ and /proc/ is disabled\n  so that users can not snoop on eachother. Files and directories with \n  easily guessable or short names will be periodically deleted!\n\t\n  Please play nice:\n      \n    * don't leave orphan processes running\n    * don't leave exploit-files laying around\n    * don't annoy other players\n    * don't post passwords or spoilers\n    * again, DONT POST SPOILERS! \n      This includes writeups of your solution on your blog or website!\n\n--[ Tips ]--\n\n  This machine has a 64bit processor and many security-features enabled\n  by default, although ASLR has been switched off.  The following\n  compiler flags might be interesting:\n\n    -m32                    compile for 32bit\n    -fno-stack-protector    disable ProPolice\n    -Wl,-z,norelro          disable relro \n\n  In addition, the execstack tool can be used to flag the stack as\n  executable on ELF binaries.\n\n  Finally, network-access is limited for most levels by a local\n  firewall.\n\n--[ Tools ]--\n\n For your convenience we have installed a few usefull tools which you can find\n in the following locations:\n\n    * pwndbg (https://github.com/pwndbg/pwndbg) in /usr/local/pwndbg/\n    * peda (https://github.com/longld/peda.git) in /usr/local/peda/\n    * gdbinit (https://github.com/gdbinit/Gdbinit) in /usr/local/gdbinit/\n    * pwntools (https://github.com/Gallopsled/pwntools)\n    * radare2 (http://www.radare.org/)\n    * checksec.sh (http://www.trapkit.de/tools/checksec.html) in /usr/local/bin/checksec.sh\n\n--[ More information ]--\n\n  For more information regarding individual wargames, visit\n  http://www.overthewire.org/wargames/\n\n  For support, questions or comments, contact us through IRC on\n  irc.overthewire.org #wargames.\n\n  Enjoy your stay!\n\n-----------The password is ---------------------\nThe password is IFukwKGsFW8MOq3IRFqrxE1hxTNEbUPR\n-------------------------------------------------\nWarning: QT_DEVICE_PIXEL_RATIO is deprecated. Instead use:\n   QT_AUTO_SCREEN_SCALE_FACTOR to enable platform plugin controlled per-screen factors.\n   QT_SCREEN_SCALE_FACTORS to set per-screen factors.\n   QT_SCALE_FACTOR to set the application global scale factor.\n"
    }
   ],
   "source": [
    "%%bash\n",
    "\n",
    "ssh bandit10@bandit.labs.overthewire.org -q -p 2220\n",
    "echo \"-----------The password is ---------------------\"\n",
    "cat data.txt | base64 -d\n",
    "echo \"-------------------------------------------------\""
   ]
  },
  {
   "cell_type": "markdown",
   "metadata": {},
   "source": [
    "## Level 12\n",
    "\n",
    "The password for the next level is stored in the file data.txt, where all lowercase (a-z) and uppercase (A-Z) letters have been rotated by 13 positions"
   ]
  },
  {
   "cell_type": "code",
   "execution_count": 36,
   "metadata": {},
   "outputs": [
    {
     "output_type": "stream",
     "name": "stdout",
     "text": "Linux bandit 4.18.12 x86_64 GNU/Linux\n               \n      ,----..            ,----,          .---. \n     /   /   \\         ,/   .`|         /. ./|\n    /   .     :      ,`   .'  :     .--'.  ' ;\n   .   /   ;.  \\   ;    ;     /    /__./ \\ : |\n  .   ;   /  ` ; .'___,/    ,' .--'.  '   \\' .\n  ;   |  ; \\ ; | |    :     | /___/ \\ |    ' ' \n  |   :  | ; | ' ;    |.';  ; ;   \\  \\;      : \n  .   |  ' ' ' : `----'  |  |  \\   ;  `      |\n  '   ;  \\; /  |     '   :  ;   .   \\    .\\  ; \n   \\   \\  ',  /      |   |  '    \\   \\   ' \\ |\n    ;   :    /       '   :  |     :   '  |--\"  \n     \\   \\ .'        ;   |.'       \\   \\ ;     \n  www. `---` ver     '---' he       '---\" ire.org     \n               \n              \nWelcome to OverTheWire!\n\nIf you find any problems, please report them to Steven or morla on\nirc.overthewire.org.\n\n--[ Playing the games ]--\n\n  This machine might hold several wargames. \n  If you are playing \"somegame\", then:\n\n    * USERNAMES are somegame0, somegame1, ...\n    * Most LEVELS are stored in /somegame/.\n    * PASSWORDS for each level are stored in /etc/somegame_pass/.\n\n  Write-access to homedirectories is disabled. It is advised to create a\n  working directory with a hard-to-guess name in /tmp/.  You can use the\n  command \"mktemp -d\" in order to generate a random and hard to guess\n  directory in /tmp/.  Read-access to both /tmp/ and /proc/ is disabled\n  so that users can not snoop on eachother. Files and directories with \n  easily guessable or short names will be periodically deleted!\n\t\n  Please play nice:\n      \n    * don't leave orphan processes running\n    * don't leave exploit-files laying around\n    * don't annoy other players\n    * don't post passwords or spoilers\n    * again, DONT POST SPOILERS! \n      This includes writeups of your solution on your blog or website!\n\n--[ Tips ]--\n\n  This machine has a 64bit processor and many security-features enabled\n  by default, although ASLR has been switched off.  The following\n  compiler flags might be interesting:\n\n    -m32                    compile for 32bit\n    -fno-stack-protector    disable ProPolice\n    -Wl,-z,norelro          disable relro \n\n  In addition, the execstack tool can be used to flag the stack as\n  executable on ELF binaries.\n\n  Finally, network-access is limited for most levels by a local\n  firewall.\n\n--[ Tools ]--\n\n For your convenience we have installed a few usefull tools which you can find\n in the following locations:\n\n    * pwndbg (https://github.com/pwndbg/pwndbg) in /usr/local/pwndbg/\n    * peda (https://github.com/longld/peda.git) in /usr/local/peda/\n    * gdbinit (https://github.com/gdbinit/Gdbinit) in /usr/local/gdbinit/\n    * pwntools (https://github.com/Gallopsled/pwntools)\n    * radare2 (http://www.radare.org/)\n    * checksec.sh (http://www.trapkit.de/tools/checksec.html) in /usr/local/bin/checksec.sh\n\n--[ More information ]--\n\n  For more information regarding individual wargames, visit\n  http://www.overthewire.org/wargames/\n\n  For support, questions or comments, contact us through IRC on\n  irc.overthewire.org #wargames.\n\n  Enjoy your stay!\n\n-----------The password is ---------------------\nThe password is 5Te8Y4drgCRfCx8ugdwuEX8KFC6k2EUu\n-------------------------------------------------\nWarning: QT_DEVICE_PIXEL_RATIO is deprecated. Instead use:\n   QT_AUTO_SCREEN_SCALE_FACTOR to enable platform plugin controlled per-screen factors.\n   QT_SCREEN_SCALE_FACTORS to set per-screen factors.\n   QT_SCALE_FACTOR to set the application global scale factor.\n"
    }
   ],
   "source": [
    "%%bash\n",
    "\n",
    "ssh bandit11@bandit.labs.overthewire.org -q -p 2220\n",
    "echo \"-----------The password is ---------------------\"\n",
    "cat data.txt | tr [a-zA-Z] [n-za-mN-ZA-M]\n",
    "echo \"-------------------------------------------------\""
   ]
  },
  {
   "cell_type": "markdown",
   "metadata": {},
   "source": [
    "## Level 13\n",
    "\n",
    "The password for the next level is stored in the file data.txt, which is a hexdump of a file that has been repeatedly compressed. For this level it may be useful to create a directory under /tmp in which you can work using mkdir. For example: mkdir /tmp/myname123. Then copy the datafile using cp, and rename it using mv (read the manpages!)"
   ]
  },
  {
   "cell_type": "code",
   "execution_count": null,
   "metadata": {},
   "outputs": [],
   "source": [
    "%%bash\n",
    "\n",
    "ssh bandit11@bandit.labs.overthewire.org -q -p 2220\n",
    "echo \"-------------------------------------------------\"\n",
    "mkdir /tmp/folder_tmp\n",
    "cp data.txt /tmp/folder_tmp/data.txt\n",
    "xxd -r data.txt compressed.gz\n",
    "gunzip compressed > compressed\n",
    "\n",
    "\n",
    "echo \"-----------The password is ---------------------\"\n",
    "cat data.txt | tr [a-zA-Z] [n-za-mN-ZA-M]\n",
    "echo \"-------------------------------------------------\""
   ]
  }
 ]
}